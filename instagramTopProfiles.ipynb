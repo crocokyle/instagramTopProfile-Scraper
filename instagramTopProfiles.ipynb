{
  "nbformat": 4,
  "nbformat_minor": 0,
  "metadata": {
    "colab": {
      "name": "instagramTopProfiles.ipynb",
      "provenance": [],
      "collapsed_sections": []
    },
    "kernelspec": {
      "name": "python3",
      "display_name": "Python 3"
    }
  },
  "cells": [
    {
      "cell_type": "code",
      "metadata": {
        "id": "frVa3ViBiIN4"
      },
      "source": [
        "import requests as r\r\n",
        "from bs4 import BeautifulSoup\r\n",
        "import pandas as pd\r\n",
        "import locale, time\r\n",
        "from tqdm.notebook import tqdm, trange"
      ],
      "execution_count": 73,
      "outputs": []
    },
    {
      "cell_type": "code",
      "metadata": {
        "id": "6D9ExlkrYsDA"
      },
      "source": [
        "url = 'https://www.trackalytics.com/the-most-followed-instagram-profiles/page/1/'\r\n",
        "headers = {'User-Agent': 'Mozilla/5.0 (Windows NT 10.0; WOW64) AppleWebKit/537.36 (KHTML, like Gecko) Chrome/67.0.3396.87 Safari/537.36'}"
      ],
      "execution_count": 74,
      "outputs": []
    },
    {
      "cell_type": "code",
      "metadata": {
        "id": "km3bTM6zijUW"
      },
      "source": [
        "locale.setlocale( locale.LC_ALL, 'en_US.UTF-8' ) \r\n",
        "wp = r.get(url, headers=headers).text\r\n",
        "soup = BeautifulSoup(wp, 'html.parser')\r\n",
        "pages = soup.find(id='paging').next_element.next_element.next_element.next_element.next_element\r\n",
        "pages = int(pages.split()[3])\r\n",
        "row_collector = []\r\n",
        "progress = tqdm(range(1,pages))\r\n",
        "for page in progress:\r\n",
        "  p_url = 'https://www.trackalytics.com/the-most-followed-instagram-profiles/page/' + str(page) + '/'\r\n",
        "  tp = r.get(p_url, headers=headers).text\r\n",
        "  tsoup = BeautifulSoup(tp, 'html.parser')\r\n",
        "  rows = tsoup.findAll(\"tr\")\r\n",
        "  for row in range(1,25):\r\n",
        "    profile = rows[row].find(style='vertical-align:middle;width:45px;height:45px;').next_element.contents[0]\r\n",
        "    followers = rows[row].find(style='vertical-align:middle;width:45px;height:45px;').next_element.next_element.next_element.next_element.contents[0].split()[0]\r\n",
        "    followers = locale.atoi(followers)\r\n",
        "    temp = [profile,followers]\r\n",
        "    row_collector.append(temp)\r\n",
        "   # Enter rate limiting per page here\r\n",
        "df = pd.DataFrame(row_collector)\r\n",
        "df[['profile','followers']] = df[[0,1]]\r\n",
        "del df[0]\r\n",
        "del df[1]"
      ],
      "execution_count": null,
      "outputs": []
    },
    {
      "cell_type": "code",
      "metadata": {
        "colab": {
          "base_uri": "https://localhost:8080/",
          "height": 419
        },
        "id": "foFhQFUD5NyH",
        "outputId": "0b698fc2-f1fa-4b41-ba68-6de0895fe1fd"
      },
      "source": [
        "df.head(100)"
      ],
      "execution_count": 83,
      "outputs": [
        {
          "output_type": "execute_result",
          "data": {
            "text/html": [
              "<div>\n",
              "<style scoped>\n",
              "    .dataframe tbody tr th:only-of-type {\n",
              "        vertical-align: middle;\n",
              "    }\n",
              "\n",
              "    .dataframe tbody tr th {\n",
              "        vertical-align: top;\n",
              "    }\n",
              "\n",
              "    .dataframe thead th {\n",
              "        text-align: right;\n",
              "    }\n",
              "</style>\n",
              "<table border=\"1\" class=\"dataframe\">\n",
              "  <thead>\n",
              "    <tr style=\"text-align: right;\">\n",
              "      <th></th>\n",
              "      <th>profile</th>\n",
              "      <th>followers</th>\n",
              "    </tr>\n",
              "  </thead>\n",
              "  <tbody>\n",
              "    <tr>\n",
              "      <th>0</th>\n",
              "      <td>Instagram</td>\n",
              "      <td>385415666</td>\n",
              "    </tr>\n",
              "    <tr>\n",
              "      <th>1</th>\n",
              "      <td>Cristiano Ronaldo</td>\n",
              "      <td>245563850</td>\n",
              "    </tr>\n",
              "    <tr>\n",
              "      <th>2</th>\n",
              "      <td>therock</td>\n",
              "      <td>216269287</td>\n",
              "    </tr>\n",
              "    <tr>\n",
              "      <th>3</th>\n",
              "      <td>Ariana Grande</td>\n",
              "      <td>215914429</td>\n",
              "    </tr>\n",
              "    <tr>\n",
              "      <th>4</th>\n",
              "      <td>Kylie</td>\n",
              "      <td>212615316</td>\n",
              "    </tr>\n",
              "    <tr>\n",
              "      <th>...</th>\n",
              "      <td>...</td>\n",
              "      <td>...</td>\n",
              "    </tr>\n",
              "    <tr>\n",
              "      <th>95</th>\n",
              "      <td>Adele</td>\n",
              "      <td>39511354</td>\n",
              "    </tr>\n",
              "    <tr>\n",
              "      <th>96</th>\n",
              "      <td>DOVE</td>\n",
              "      <td>39406051</td>\n",
              "    </tr>\n",
              "    <tr>\n",
              "      <th>97</th>\n",
              "      <td>Luis Suarez</td>\n",
              "      <td>39268694</td>\n",
              "    </tr>\n",
              "    <tr>\n",
              "      <th>98</th>\n",
              "      <td>Conor McGregor Official</td>\n",
              "      <td>39240851</td>\n",
              "    </tr>\n",
              "    <tr>\n",
              "      <th>99</th>\n",
              "      <td>Zayn Malik</td>\n",
              "      <td>39089498</td>\n",
              "    </tr>\n",
              "  </tbody>\n",
              "</table>\n",
              "<p>100 rows × 2 columns</p>\n",
              "</div>"
            ],
            "text/plain": [
              "                    profile  followers\n",
              "0                 Instagram  385415666\n",
              "1         Cristiano Ronaldo  245563850\n",
              "2                   therock  216269287\n",
              "3             Ariana Grande  215914429\n",
              "4                     Kylie  212615316\n",
              "..                      ...        ...\n",
              "95                    Adele   39511354\n",
              "96                     DOVE   39406051\n",
              "97              Luis Suarez   39268694\n",
              "98  Conor McGregor Official   39240851\n",
              "99               Zayn Malik   39089498\n",
              "\n",
              "[100 rows x 2 columns]"
            ]
          },
          "metadata": {
            "tags": []
          },
          "execution_count": 83
        }
      ]
    }
  ]
}